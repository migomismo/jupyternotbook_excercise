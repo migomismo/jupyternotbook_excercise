{
 "cells": [
  {
   "cell_type": "markdown",
   "id": "dc290c52-7e71-44c7-99b8-7d58346c3463",
   "metadata": {},
   "source": [
    "# Data Science Tools and Ecosystem"
   ]
  },
  {
   "cell_type": "markdown",
   "id": "6b040845-a0e9-49d5-afa8-2a788fd30f65",
   "metadata": {},
   "source": [
    "In this notebook, Data Science Tools and Ecosystem are summarized."
   ]
  },
  {
   "cell_type": "markdown",
   "id": "8f506391-fc2a-4cac-989d-119d3880d5be",
   "metadata": {},
   "source": [
    "Some of the popular languages that Data Scientists use are\n",
    "\n",
    "1. R\n",
    "2. Python\n",
    "3. C++\n",
    "4. Java"
   ]
  },
  {
   "cell_type": "markdown",
   "id": "a52598d7-1b62-4049-8e78-65965e938a5b",
   "metadata": {},
   "source": [
    "Some of the commonly used libraries used by Data Scientists include:\n",
    "\n",
    "1. Pandas\n",
    "2. Numphy\n",
    "3. TensorFlow\n",
    "4. Matplotloib"
   ]
  },
  {
   "cell_type": "markdown",
   "id": "c2c37112-9d53-4a2c-9cfd-2467a7157cb4",
   "metadata": {},
   "source": [
    "|Data Science Tools|\n",
    "|-------------------|\n",
    "|Jupyter|\n",
    "|Hadoop|\n",
    "|Knime|"
   ]
  },
  {
   "cell_type": "markdown",
   "id": "fb9008fc-9a2b-431b-b6b0-9f9af0177294",
   "metadata": {},
   "source": [
    "### Below are a few examples of evaluating arithmetic expressions in Python."
   ]
  },
  {
   "cell_type": "code",
   "execution_count": 4,
   "id": "ac81553c-f3d3-421f-b62e-35bed141d316",
   "metadata": {},
   "outputs": [
    {
     "data": {
      "text/plain": [
       "17"
      ]
     },
     "execution_count": 4,
     "metadata": {},
     "output_type": "execute_result"
    }
   ],
   "source": [
    "# Arithmetic expression\n",
    "(3*4)+5"
   ]
  },
  {
   "cell_type": "code",
   "execution_count": 6,
   "id": "2ee9b028-febc-4927-8db1-e64f7192072a",
   "metadata": {},
   "outputs": [
    {
     "data": {
      "text/plain": [
       "3.3333333333333335"
      ]
     },
     "execution_count": 6,
     "metadata": {},
     "output_type": "execute_result"
    }
   ],
   "source": [
    "# This will convert 200 minutes to hours by diving by 60.\n",
    "200/60"
   ]
  },
  {
   "cell_type": "markdown",
   "id": "f750b328-aa46-4491-ae8f-9bc0ebe6f5e8",
   "metadata": {},
   "source": [
    "**Objectives**\n",
    "* Practice __Markdown__ and __Code__ cells in Jupyter Notebooks\n",
    "* List Popular languages used by data scientists\n",
    "* List Open Source Data Science tools"
   ]
  },
  {
   "cell_type": "markdown",
   "id": "ddef5f33-0670-407d-a2aa-f8b20de1baf6",
   "metadata": {},
   "source": [
    "## Author\n",
    "Emilio Caballero"
   ]
  }
 ],
 "metadata": {
  "kernelspec": {
   "display_name": "Python 3 (ipykernel)",
   "language": "python",
   "name": "python3"
  },
  "language_info": {
   "codemirror_mode": {
    "name": "ipython",
    "version": 3
   },
   "file_extension": ".py",
   "mimetype": "text/x-python",
   "name": "python",
   "nbconvert_exporter": "python",
   "pygments_lexer": "ipython3",
   "version": "3.12.7"
  }
 },
 "nbformat": 4,
 "nbformat_minor": 5
}
